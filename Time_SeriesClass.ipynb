{
  "nbformat": 4,
  "nbformat_minor": 0,
  "metadata": {
    "colab": {
      "provenance": [],
      "mount_file_id": "1a81a7tOrDQtYBejQNP9AkXeqGJW6mfsa",
      "authorship_tag": "ABX9TyPouAgDk/+yG64PCwEgomBt",
      "include_colab_link": true
    },
    "kernelspec": {
      "name": "python3",
      "display_name": "Python 3"
    },
    "language_info": {
      "name": "python"
    }
  },
  "cells": [
    {
      "cell_type": "markdown",
      "metadata": {
        "id": "view-in-github",
        "colab_type": "text"
      },
      "source": [
        "<a href=\"https://colab.research.google.com/github/GonzaloJab/image-clustering/blob/master/Time_SeriesClass.ipynb\" target=\"_parent\"><img src=\"https://colab.research.google.com/assets/colab-badge.svg\" alt=\"Open In Colab\"/></a>"
      ]
    },
    {
      "cell_type": "code",
      "execution_count": 8,
      "metadata": {
        "colab": {
          "base_uri": "https://localhost:8080/"
        },
        "id": "MWbge5GHu5Da",
        "outputId": "099854e4-43aa-423f-bb9c-13d9ececa3f4"
      },
      "outputs": [
        {
          "output_type": "stream",
          "name": "stdout",
          "text": [
            "/bin/bash: line 1: nvidia-smi: command not found\n"
          ]
        }
      ],
      "source": [
        "!nvidia-smi"
      ]
    },
    {
      "cell_type": "code",
      "source": [
        "!pip install --quiet torch"
      ],
      "metadata": {
        "id": "uyTpFrsIxFTn"
      },
      "execution_count": 9,
      "outputs": []
    },
    {
      "cell_type": "code",
      "source": [
        "!pip install --quiet pytorch-lightning"
      ],
      "metadata": {
        "id": "gnplSCqUxHt1"
      },
      "execution_count": 10,
      "outputs": []
    },
    {
      "cell_type": "code",
      "source": [
        "import pandas as pd\n",
        "import numpy as np\n",
        "from tqdm.auto import tqdm\n",
        "\n",
        "import torch\n",
        "import torch.autograd as autograd\n",
        "import torch.nn as nn\n",
        "import torch.nn.functional as F\n",
        "import torch.optim as optim\n",
        "from torch.utils.data import Dataset, DataLoader\n",
        "\n",
        "import pytorch_lightning as pl\n",
        "import seaborn as sns\n",
        "from pylab import rcParams\n",
        "import matplotlib.pyplot as plt\n",
        "from matplotlib import rc\n",
        "from matplotlib.ticker import MaxNLocator\n",
        "\n",
        "from sklearn.model_selection import train_test_split\n",
        "from sklearn.preprocessing import LabelEncoder\n",
        "from pytorch_lightning.callbacks import ModelCheckpoint, EarlyStopping\n",
        "from pytorch_lightning.loggers import TensorBoardLogger\n",
        "\n",
        "#from pytorch_lightning.metrics.functional import accuracy #Lets look for a substitute!!\n",
        "import os\n",
        "\n",
        "from sklearn.metrics import classification_report, confusion_matrix\n"
      ],
      "metadata": {
        "id": "Rpl0ew0Nxekz"
      },
      "execution_count": 11,
      "outputs": []
    },
    {
      "cell_type": "code",
      "source": [
        "%matplotlib inline\n",
        "%config InlineBackend.figure_format='retina'\n",
        "\n",
        "sns.set(style='whitegrid', palette='muted', font_scale=1.2)\n",
        "\n",
        "HAPPY_COLORS_PALETTE = [\"#01BEFE\", \"#FFDD00\", \"#FF7D00\",\"#FF006D\",\"#ADFF02\",\"#8F00FF\"]\n",
        "\n",
        "sns.set_palette(sns.color_palette(HAPPY_COLORS_PALETTE))\n",
        "\n",
        "rcParams['figure.figsize'] = 16, 10"
      ],
      "metadata": {
        "id": "0zg9WMpNxfOw"
      },
      "execution_count": 12,
      "outputs": []
    },
    {
      "cell_type": "code",
      "source": [
        "pl.seed_everything(42)\n",
        "\n"
      ],
      "metadata": {
        "colab": {
          "base_uri": "https://localhost:8080/"
        },
        "id": "QXAH0fWgzUNZ",
        "outputId": "2ec4aade-f9db-413c-ba69-69fc37fc6b63"
      },
      "execution_count": 13,
      "outputs": [
        {
          "output_type": "stream",
          "name": "stderr",
          "text": [
            "INFO:lightning_fabric.utilities.seed:Seed set to 42\n"
          ]
        },
        {
          "output_type": "execute_result",
          "data": {
            "text/plain": [
              "42"
            ]
          },
          "metadata": {},
          "execution_count": 13
        }
      ]
    },
    {
      "cell_type": "code",
      "source": [
        "x_train = pd.read_csv(\"/content/X_train.csv\")\n",
        "y_train = pd.read_csv(\"/content/y_train.csv\")"
      ],
      "metadata": {
        "id": "furgyY9L2nBB"
      },
      "execution_count": 14,
      "outputs": []
    },
    {
      "cell_type": "code",
      "source": [
        "x_train.head()"
      ],
      "metadata": {
        "colab": {
          "base_uri": "https://localhost:8080/",
          "height": 226
        },
        "id": "X7ZtpNYr4Fap",
        "outputId": "68833bbc-8786-4c2a-a60b-142103b30875"
      },
      "execution_count": 15,
      "outputs": [
        {
          "output_type": "execute_result",
          "data": {
            "text/plain": [
              "  row_id  series_id  measurement_number  orientation_X  orientation_Y  \\\n",
              "0    0_0          0                   0       -0.75853       -0.63435   \n",
              "1    0_1          0                   1       -0.75853       -0.63434   \n",
              "2    0_2          0                   2       -0.75853       -0.63435   \n",
              "3    0_3          0                   3       -0.75852       -0.63436   \n",
              "4    0_4          0                   4       -0.75852       -0.63435   \n",
              "\n",
              "   orientation_Z  orientation_W  angular_velocity_X  angular_velocity_Y  \\\n",
              "0       -0.10488       -0.10597            0.107650            0.017561   \n",
              "1       -0.10490       -0.10600            0.067851            0.029939   \n",
              "2       -0.10492       -0.10597            0.007275            0.028934   \n",
              "3       -0.10495       -0.10597           -0.013053            0.019448   \n",
              "4       -0.10495       -0.10596            0.005135            0.007652   \n",
              "\n",
              "   angular_velocity_Z  linear_acceleration_X  linear_acceleration_Y  \\\n",
              "0            0.000767               -0.74857                 2.1030   \n",
              "1            0.003386                0.33995                 1.5064   \n",
              "2           -0.005978               -0.26429                 1.5922   \n",
              "3           -0.008974                0.42684                 1.0993   \n",
              "4            0.005245               -0.50969                 1.4689   \n",
              "\n",
              "   linear_acceleration_Z  \n",
              "0                -9.7532  \n",
              "1                -9.4128  \n",
              "2                -8.7267  \n",
              "3               -10.0960  \n",
              "4               -10.4410  "
            ],
            "text/html": [
              "\n",
              "  <div id=\"df-01ff7938-e4cf-4d8d-a64b-f2c2723e3753\" class=\"colab-df-container\">\n",
              "    <div>\n",
              "<style scoped>\n",
              "    .dataframe tbody tr th:only-of-type {\n",
              "        vertical-align: middle;\n",
              "    }\n",
              "\n",
              "    .dataframe tbody tr th {\n",
              "        vertical-align: top;\n",
              "    }\n",
              "\n",
              "    .dataframe thead th {\n",
              "        text-align: right;\n",
              "    }\n",
              "</style>\n",
              "<table border=\"1\" class=\"dataframe\">\n",
              "  <thead>\n",
              "    <tr style=\"text-align: right;\">\n",
              "      <th></th>\n",
              "      <th>row_id</th>\n",
              "      <th>series_id</th>\n",
              "      <th>measurement_number</th>\n",
              "      <th>orientation_X</th>\n",
              "      <th>orientation_Y</th>\n",
              "      <th>orientation_Z</th>\n",
              "      <th>orientation_W</th>\n",
              "      <th>angular_velocity_X</th>\n",
              "      <th>angular_velocity_Y</th>\n",
              "      <th>angular_velocity_Z</th>\n",
              "      <th>linear_acceleration_X</th>\n",
              "      <th>linear_acceleration_Y</th>\n",
              "      <th>linear_acceleration_Z</th>\n",
              "    </tr>\n",
              "  </thead>\n",
              "  <tbody>\n",
              "    <tr>\n",
              "      <th>0</th>\n",
              "      <td>0_0</td>\n",
              "      <td>0</td>\n",
              "      <td>0</td>\n",
              "      <td>-0.75853</td>\n",
              "      <td>-0.63435</td>\n",
              "      <td>-0.10488</td>\n",
              "      <td>-0.10597</td>\n",
              "      <td>0.107650</td>\n",
              "      <td>0.017561</td>\n",
              "      <td>0.000767</td>\n",
              "      <td>-0.74857</td>\n",
              "      <td>2.1030</td>\n",
              "      <td>-9.7532</td>\n",
              "    </tr>\n",
              "    <tr>\n",
              "      <th>1</th>\n",
              "      <td>0_1</td>\n",
              "      <td>0</td>\n",
              "      <td>1</td>\n",
              "      <td>-0.75853</td>\n",
              "      <td>-0.63434</td>\n",
              "      <td>-0.10490</td>\n",
              "      <td>-0.10600</td>\n",
              "      <td>0.067851</td>\n",
              "      <td>0.029939</td>\n",
              "      <td>0.003386</td>\n",
              "      <td>0.33995</td>\n",
              "      <td>1.5064</td>\n",
              "      <td>-9.4128</td>\n",
              "    </tr>\n",
              "    <tr>\n",
              "      <th>2</th>\n",
              "      <td>0_2</td>\n",
              "      <td>0</td>\n",
              "      <td>2</td>\n",
              "      <td>-0.75853</td>\n",
              "      <td>-0.63435</td>\n",
              "      <td>-0.10492</td>\n",
              "      <td>-0.10597</td>\n",
              "      <td>0.007275</td>\n",
              "      <td>0.028934</td>\n",
              "      <td>-0.005978</td>\n",
              "      <td>-0.26429</td>\n",
              "      <td>1.5922</td>\n",
              "      <td>-8.7267</td>\n",
              "    </tr>\n",
              "    <tr>\n",
              "      <th>3</th>\n",
              "      <td>0_3</td>\n",
              "      <td>0</td>\n",
              "      <td>3</td>\n",
              "      <td>-0.75852</td>\n",
              "      <td>-0.63436</td>\n",
              "      <td>-0.10495</td>\n",
              "      <td>-0.10597</td>\n",
              "      <td>-0.013053</td>\n",
              "      <td>0.019448</td>\n",
              "      <td>-0.008974</td>\n",
              "      <td>0.42684</td>\n",
              "      <td>1.0993</td>\n",
              "      <td>-10.0960</td>\n",
              "    </tr>\n",
              "    <tr>\n",
              "      <th>4</th>\n",
              "      <td>0_4</td>\n",
              "      <td>0</td>\n",
              "      <td>4</td>\n",
              "      <td>-0.75852</td>\n",
              "      <td>-0.63435</td>\n",
              "      <td>-0.10495</td>\n",
              "      <td>-0.10596</td>\n",
              "      <td>0.005135</td>\n",
              "      <td>0.007652</td>\n",
              "      <td>0.005245</td>\n",
              "      <td>-0.50969</td>\n",
              "      <td>1.4689</td>\n",
              "      <td>-10.4410</td>\n",
              "    </tr>\n",
              "  </tbody>\n",
              "</table>\n",
              "</div>\n",
              "    <div class=\"colab-df-buttons\">\n",
              "\n",
              "  <div class=\"colab-df-container\">\n",
              "    <button class=\"colab-df-convert\" onclick=\"convertToInteractive('df-01ff7938-e4cf-4d8d-a64b-f2c2723e3753')\"\n",
              "            title=\"Convert this dataframe to an interactive table.\"\n",
              "            style=\"display:none;\">\n",
              "\n",
              "  <svg xmlns=\"http://www.w3.org/2000/svg\" height=\"24px\" viewBox=\"0 -960 960 960\">\n",
              "    <path d=\"M120-120v-720h720v720H120Zm60-500h600v-160H180v160Zm220 220h160v-160H400v160Zm0 220h160v-160H400v160ZM180-400h160v-160H180v160Zm440 0h160v-160H620v160ZM180-180h160v-160H180v160Zm440 0h160v-160H620v160Z\"/>\n",
              "  </svg>\n",
              "    </button>\n",
              "\n",
              "  <style>\n",
              "    .colab-df-container {\n",
              "      display:flex;\n",
              "      gap: 12px;\n",
              "    }\n",
              "\n",
              "    .colab-df-convert {\n",
              "      background-color: #E8F0FE;\n",
              "      border: none;\n",
              "      border-radius: 50%;\n",
              "      cursor: pointer;\n",
              "      display: none;\n",
              "      fill: #1967D2;\n",
              "      height: 32px;\n",
              "      padding: 0 0 0 0;\n",
              "      width: 32px;\n",
              "    }\n",
              "\n",
              "    .colab-df-convert:hover {\n",
              "      background-color: #E2EBFA;\n",
              "      box-shadow: 0px 1px 2px rgba(60, 64, 67, 0.3), 0px 1px 3px 1px rgba(60, 64, 67, 0.15);\n",
              "      fill: #174EA6;\n",
              "    }\n",
              "\n",
              "    .colab-df-buttons div {\n",
              "      margin-bottom: 4px;\n",
              "    }\n",
              "\n",
              "    [theme=dark] .colab-df-convert {\n",
              "      background-color: #3B4455;\n",
              "      fill: #D2E3FC;\n",
              "    }\n",
              "\n",
              "    [theme=dark] .colab-df-convert:hover {\n",
              "      background-color: #434B5C;\n",
              "      box-shadow: 0px 1px 3px 1px rgba(0, 0, 0, 0.15);\n",
              "      filter: drop-shadow(0px 1px 2px rgba(0, 0, 0, 0.3));\n",
              "      fill: #FFFFFF;\n",
              "    }\n",
              "  </style>\n",
              "\n",
              "    <script>\n",
              "      const buttonEl =\n",
              "        document.querySelector('#df-01ff7938-e4cf-4d8d-a64b-f2c2723e3753 button.colab-df-convert');\n",
              "      buttonEl.style.display =\n",
              "        google.colab.kernel.accessAllowed ? 'block' : 'none';\n",
              "\n",
              "      async function convertToInteractive(key) {\n",
              "        const element = document.querySelector('#df-01ff7938-e4cf-4d8d-a64b-f2c2723e3753');\n",
              "        const dataTable =\n",
              "          await google.colab.kernel.invokeFunction('convertToInteractive',\n",
              "                                                    [key], {});\n",
              "        if (!dataTable) return;\n",
              "\n",
              "        const docLinkHtml = 'Like what you see? Visit the ' +\n",
              "          '<a target=\"_blank\" href=https://colab.research.google.com/notebooks/data_table.ipynb>data table notebook</a>'\n",
              "          + ' to learn more about interactive tables.';\n",
              "        element.innerHTML = '';\n",
              "        dataTable['output_type'] = 'display_data';\n",
              "        await google.colab.output.renderOutput(dataTable, element);\n",
              "        const docLink = document.createElement('div');\n",
              "        docLink.innerHTML = docLinkHtml;\n",
              "        element.appendChild(docLink);\n",
              "      }\n",
              "    </script>\n",
              "  </div>\n",
              "\n",
              "\n",
              "<div id=\"df-a9d9e890-a582-4c1f-9eb9-b628c3e53e3d\">\n",
              "  <button class=\"colab-df-quickchart\" onclick=\"quickchart('df-a9d9e890-a582-4c1f-9eb9-b628c3e53e3d')\"\n",
              "            title=\"Suggest charts\"\n",
              "            style=\"display:none;\">\n",
              "\n",
              "<svg xmlns=\"http://www.w3.org/2000/svg\" height=\"24px\"viewBox=\"0 0 24 24\"\n",
              "     width=\"24px\">\n",
              "    <g>\n",
              "        <path d=\"M19 3H5c-1.1 0-2 .9-2 2v14c0 1.1.9 2 2 2h14c1.1 0 2-.9 2-2V5c0-1.1-.9-2-2-2zM9 17H7v-7h2v7zm4 0h-2V7h2v10zm4 0h-2v-4h2v4z\"/>\n",
              "    </g>\n",
              "</svg>\n",
              "  </button>\n",
              "\n",
              "<style>\n",
              "  .colab-df-quickchart {\n",
              "      --bg-color: #E8F0FE;\n",
              "      --fill-color: #1967D2;\n",
              "      --hover-bg-color: #E2EBFA;\n",
              "      --hover-fill-color: #174EA6;\n",
              "      --disabled-fill-color: #AAA;\n",
              "      --disabled-bg-color: #DDD;\n",
              "  }\n",
              "\n",
              "  [theme=dark] .colab-df-quickchart {\n",
              "      --bg-color: #3B4455;\n",
              "      --fill-color: #D2E3FC;\n",
              "      --hover-bg-color: #434B5C;\n",
              "      --hover-fill-color: #FFFFFF;\n",
              "      --disabled-bg-color: #3B4455;\n",
              "      --disabled-fill-color: #666;\n",
              "  }\n",
              "\n",
              "  .colab-df-quickchart {\n",
              "    background-color: var(--bg-color);\n",
              "    border: none;\n",
              "    border-radius: 50%;\n",
              "    cursor: pointer;\n",
              "    display: none;\n",
              "    fill: var(--fill-color);\n",
              "    height: 32px;\n",
              "    padding: 0;\n",
              "    width: 32px;\n",
              "  }\n",
              "\n",
              "  .colab-df-quickchart:hover {\n",
              "    background-color: var(--hover-bg-color);\n",
              "    box-shadow: 0 1px 2px rgba(60, 64, 67, 0.3), 0 1px 3px 1px rgba(60, 64, 67, 0.15);\n",
              "    fill: var(--button-hover-fill-color);\n",
              "  }\n",
              "\n",
              "  .colab-df-quickchart-complete:disabled,\n",
              "  .colab-df-quickchart-complete:disabled:hover {\n",
              "    background-color: var(--disabled-bg-color);\n",
              "    fill: var(--disabled-fill-color);\n",
              "    box-shadow: none;\n",
              "  }\n",
              "\n",
              "  .colab-df-spinner {\n",
              "    border: 2px solid var(--fill-color);\n",
              "    border-color: transparent;\n",
              "    border-bottom-color: var(--fill-color);\n",
              "    animation:\n",
              "      spin 1s steps(1) infinite;\n",
              "  }\n",
              "\n",
              "  @keyframes spin {\n",
              "    0% {\n",
              "      border-color: transparent;\n",
              "      border-bottom-color: var(--fill-color);\n",
              "      border-left-color: var(--fill-color);\n",
              "    }\n",
              "    20% {\n",
              "      border-color: transparent;\n",
              "      border-left-color: var(--fill-color);\n",
              "      border-top-color: var(--fill-color);\n",
              "    }\n",
              "    30% {\n",
              "      border-color: transparent;\n",
              "      border-left-color: var(--fill-color);\n",
              "      border-top-color: var(--fill-color);\n",
              "      border-right-color: var(--fill-color);\n",
              "    }\n",
              "    40% {\n",
              "      border-color: transparent;\n",
              "      border-right-color: var(--fill-color);\n",
              "      border-top-color: var(--fill-color);\n",
              "    }\n",
              "    60% {\n",
              "      border-color: transparent;\n",
              "      border-right-color: var(--fill-color);\n",
              "    }\n",
              "    80% {\n",
              "      border-color: transparent;\n",
              "      border-right-color: var(--fill-color);\n",
              "      border-bottom-color: var(--fill-color);\n",
              "    }\n",
              "    90% {\n",
              "      border-color: transparent;\n",
              "      border-bottom-color: var(--fill-color);\n",
              "    }\n",
              "  }\n",
              "</style>\n",
              "\n",
              "  <script>\n",
              "    async function quickchart(key) {\n",
              "      const quickchartButtonEl =\n",
              "        document.querySelector('#' + key + ' button');\n",
              "      quickchartButtonEl.disabled = true;  // To prevent multiple clicks.\n",
              "      quickchartButtonEl.classList.add('colab-df-spinner');\n",
              "      try {\n",
              "        const charts = await google.colab.kernel.invokeFunction(\n",
              "            'suggestCharts', [key], {});\n",
              "      } catch (error) {\n",
              "        console.error('Error during call to suggestCharts:', error);\n",
              "      }\n",
              "      quickchartButtonEl.classList.remove('colab-df-spinner');\n",
              "      quickchartButtonEl.classList.add('colab-df-quickchart-complete');\n",
              "    }\n",
              "    (() => {\n",
              "      let quickchartButtonEl =\n",
              "        document.querySelector('#df-a9d9e890-a582-4c1f-9eb9-b628c3e53e3d button');\n",
              "      quickchartButtonEl.style.display =\n",
              "        google.colab.kernel.accessAllowed ? 'block' : 'none';\n",
              "    })();\n",
              "  </script>\n",
              "</div>\n",
              "    </div>\n",
              "  </div>\n"
            ]
          },
          "metadata": {},
          "execution_count": 15
        }
      ]
    },
    {
      "cell_type": "code",
      "source": [
        "y_train.head()"
      ],
      "metadata": {
        "colab": {
          "base_uri": "https://localhost:8080/",
          "height": 206
        },
        "id": "eBh89DZA7Lto",
        "outputId": "d676f6f1-501e-4316-dec0-0ea24a98e8ad"
      },
      "execution_count": 16,
      "outputs": [
        {
          "output_type": "execute_result",
          "data": {
            "text/plain": [
              "   series_id  group_id        surface\n",
              "0          0        13  fine_concrete\n",
              "1          1        31       concrete\n",
              "2          2        20       concrete\n",
              "3          3        31       concrete\n",
              "4          4        22     soft_tiles"
            ],
            "text/html": [
              "\n",
              "  <div id=\"df-c1514ba1-2bab-4166-9fcb-35d80638c8db\" class=\"colab-df-container\">\n",
              "    <div>\n",
              "<style scoped>\n",
              "    .dataframe tbody tr th:only-of-type {\n",
              "        vertical-align: middle;\n",
              "    }\n",
              "\n",
              "    .dataframe tbody tr th {\n",
              "        vertical-align: top;\n",
              "    }\n",
              "\n",
              "    .dataframe thead th {\n",
              "        text-align: right;\n",
              "    }\n",
              "</style>\n",
              "<table border=\"1\" class=\"dataframe\">\n",
              "  <thead>\n",
              "    <tr style=\"text-align: right;\">\n",
              "      <th></th>\n",
              "      <th>series_id</th>\n",
              "      <th>group_id</th>\n",
              "      <th>surface</th>\n",
              "    </tr>\n",
              "  </thead>\n",
              "  <tbody>\n",
              "    <tr>\n",
              "      <th>0</th>\n",
              "      <td>0</td>\n",
              "      <td>13</td>\n",
              "      <td>fine_concrete</td>\n",
              "    </tr>\n",
              "    <tr>\n",
              "      <th>1</th>\n",
              "      <td>1</td>\n",
              "      <td>31</td>\n",
              "      <td>concrete</td>\n",
              "    </tr>\n",
              "    <tr>\n",
              "      <th>2</th>\n",
              "      <td>2</td>\n",
              "      <td>20</td>\n",
              "      <td>concrete</td>\n",
              "    </tr>\n",
              "    <tr>\n",
              "      <th>3</th>\n",
              "      <td>3</td>\n",
              "      <td>31</td>\n",
              "      <td>concrete</td>\n",
              "    </tr>\n",
              "    <tr>\n",
              "      <th>4</th>\n",
              "      <td>4</td>\n",
              "      <td>22</td>\n",
              "      <td>soft_tiles</td>\n",
              "    </tr>\n",
              "  </tbody>\n",
              "</table>\n",
              "</div>\n",
              "    <div class=\"colab-df-buttons\">\n",
              "\n",
              "  <div class=\"colab-df-container\">\n",
              "    <button class=\"colab-df-convert\" onclick=\"convertToInteractive('df-c1514ba1-2bab-4166-9fcb-35d80638c8db')\"\n",
              "            title=\"Convert this dataframe to an interactive table.\"\n",
              "            style=\"display:none;\">\n",
              "\n",
              "  <svg xmlns=\"http://www.w3.org/2000/svg\" height=\"24px\" viewBox=\"0 -960 960 960\">\n",
              "    <path d=\"M120-120v-720h720v720H120Zm60-500h600v-160H180v160Zm220 220h160v-160H400v160Zm0 220h160v-160H400v160ZM180-400h160v-160H180v160Zm440 0h160v-160H620v160ZM180-180h160v-160H180v160Zm440 0h160v-160H620v160Z\"/>\n",
              "  </svg>\n",
              "    </button>\n",
              "\n",
              "  <style>\n",
              "    .colab-df-container {\n",
              "      display:flex;\n",
              "      gap: 12px;\n",
              "    }\n",
              "\n",
              "    .colab-df-convert {\n",
              "      background-color: #E8F0FE;\n",
              "      border: none;\n",
              "      border-radius: 50%;\n",
              "      cursor: pointer;\n",
              "      display: none;\n",
              "      fill: #1967D2;\n",
              "      height: 32px;\n",
              "      padding: 0 0 0 0;\n",
              "      width: 32px;\n",
              "    }\n",
              "\n",
              "    .colab-df-convert:hover {\n",
              "      background-color: #E2EBFA;\n",
              "      box-shadow: 0px 1px 2px rgba(60, 64, 67, 0.3), 0px 1px 3px 1px rgba(60, 64, 67, 0.15);\n",
              "      fill: #174EA6;\n",
              "    }\n",
              "\n",
              "    .colab-df-buttons div {\n",
              "      margin-bottom: 4px;\n",
              "    }\n",
              "\n",
              "    [theme=dark] .colab-df-convert {\n",
              "      background-color: #3B4455;\n",
              "      fill: #D2E3FC;\n",
              "    }\n",
              "\n",
              "    [theme=dark] .colab-df-convert:hover {\n",
              "      background-color: #434B5C;\n",
              "      box-shadow: 0px 1px 3px 1px rgba(0, 0, 0, 0.15);\n",
              "      filter: drop-shadow(0px 1px 2px rgba(0, 0, 0, 0.3));\n",
              "      fill: #FFFFFF;\n",
              "    }\n",
              "  </style>\n",
              "\n",
              "    <script>\n",
              "      const buttonEl =\n",
              "        document.querySelector('#df-c1514ba1-2bab-4166-9fcb-35d80638c8db button.colab-df-convert');\n",
              "      buttonEl.style.display =\n",
              "        google.colab.kernel.accessAllowed ? 'block' : 'none';\n",
              "\n",
              "      async function convertToInteractive(key) {\n",
              "        const element = document.querySelector('#df-c1514ba1-2bab-4166-9fcb-35d80638c8db');\n",
              "        const dataTable =\n",
              "          await google.colab.kernel.invokeFunction('convertToInteractive',\n",
              "                                                    [key], {});\n",
              "        if (!dataTable) return;\n",
              "\n",
              "        const docLinkHtml = 'Like what you see? Visit the ' +\n",
              "          '<a target=\"_blank\" href=https://colab.research.google.com/notebooks/data_table.ipynb>data table notebook</a>'\n",
              "          + ' to learn more about interactive tables.';\n",
              "        element.innerHTML = '';\n",
              "        dataTable['output_type'] = 'display_data';\n",
              "        await google.colab.output.renderOutput(dataTable, element);\n",
              "        const docLink = document.createElement('div');\n",
              "        docLink.innerHTML = docLinkHtml;\n",
              "        element.appendChild(docLink);\n",
              "      }\n",
              "    </script>\n",
              "  </div>\n",
              "\n",
              "\n",
              "<div id=\"df-20735b6f-e246-4637-93c9-f968e71d5aaa\">\n",
              "  <button class=\"colab-df-quickchart\" onclick=\"quickchart('df-20735b6f-e246-4637-93c9-f968e71d5aaa')\"\n",
              "            title=\"Suggest charts\"\n",
              "            style=\"display:none;\">\n",
              "\n",
              "<svg xmlns=\"http://www.w3.org/2000/svg\" height=\"24px\"viewBox=\"0 0 24 24\"\n",
              "     width=\"24px\">\n",
              "    <g>\n",
              "        <path d=\"M19 3H5c-1.1 0-2 .9-2 2v14c0 1.1.9 2 2 2h14c1.1 0 2-.9 2-2V5c0-1.1-.9-2-2-2zM9 17H7v-7h2v7zm4 0h-2V7h2v10zm4 0h-2v-4h2v4z\"/>\n",
              "    </g>\n",
              "</svg>\n",
              "  </button>\n",
              "\n",
              "<style>\n",
              "  .colab-df-quickchart {\n",
              "      --bg-color: #E8F0FE;\n",
              "      --fill-color: #1967D2;\n",
              "      --hover-bg-color: #E2EBFA;\n",
              "      --hover-fill-color: #174EA6;\n",
              "      --disabled-fill-color: #AAA;\n",
              "      --disabled-bg-color: #DDD;\n",
              "  }\n",
              "\n",
              "  [theme=dark] .colab-df-quickchart {\n",
              "      --bg-color: #3B4455;\n",
              "      --fill-color: #D2E3FC;\n",
              "      --hover-bg-color: #434B5C;\n",
              "      --hover-fill-color: #FFFFFF;\n",
              "      --disabled-bg-color: #3B4455;\n",
              "      --disabled-fill-color: #666;\n",
              "  }\n",
              "\n",
              "  .colab-df-quickchart {\n",
              "    background-color: var(--bg-color);\n",
              "    border: none;\n",
              "    border-radius: 50%;\n",
              "    cursor: pointer;\n",
              "    display: none;\n",
              "    fill: var(--fill-color);\n",
              "    height: 32px;\n",
              "    padding: 0;\n",
              "    width: 32px;\n",
              "  }\n",
              "\n",
              "  .colab-df-quickchart:hover {\n",
              "    background-color: var(--hover-bg-color);\n",
              "    box-shadow: 0 1px 2px rgba(60, 64, 67, 0.3), 0 1px 3px 1px rgba(60, 64, 67, 0.15);\n",
              "    fill: var(--button-hover-fill-color);\n",
              "  }\n",
              "\n",
              "  .colab-df-quickchart-complete:disabled,\n",
              "  .colab-df-quickchart-complete:disabled:hover {\n",
              "    background-color: var(--disabled-bg-color);\n",
              "    fill: var(--disabled-fill-color);\n",
              "    box-shadow: none;\n",
              "  }\n",
              "\n",
              "  .colab-df-spinner {\n",
              "    border: 2px solid var(--fill-color);\n",
              "    border-color: transparent;\n",
              "    border-bottom-color: var(--fill-color);\n",
              "    animation:\n",
              "      spin 1s steps(1) infinite;\n",
              "  }\n",
              "\n",
              "  @keyframes spin {\n",
              "    0% {\n",
              "      border-color: transparent;\n",
              "      border-bottom-color: var(--fill-color);\n",
              "      border-left-color: var(--fill-color);\n",
              "    }\n",
              "    20% {\n",
              "      border-color: transparent;\n",
              "      border-left-color: var(--fill-color);\n",
              "      border-top-color: var(--fill-color);\n",
              "    }\n",
              "    30% {\n",
              "      border-color: transparent;\n",
              "      border-left-color: var(--fill-color);\n",
              "      border-top-color: var(--fill-color);\n",
              "      border-right-color: var(--fill-color);\n",
              "    }\n",
              "    40% {\n",
              "      border-color: transparent;\n",
              "      border-right-color: var(--fill-color);\n",
              "      border-top-color: var(--fill-color);\n",
              "    }\n",
              "    60% {\n",
              "      border-color: transparent;\n",
              "      border-right-color: var(--fill-color);\n",
              "    }\n",
              "    80% {\n",
              "      border-color: transparent;\n",
              "      border-right-color: var(--fill-color);\n",
              "      border-bottom-color: var(--fill-color);\n",
              "    }\n",
              "    90% {\n",
              "      border-color: transparent;\n",
              "      border-bottom-color: var(--fill-color);\n",
              "    }\n",
              "  }\n",
              "</style>\n",
              "\n",
              "  <script>\n",
              "    async function quickchart(key) {\n",
              "      const quickchartButtonEl =\n",
              "        document.querySelector('#' + key + ' button');\n",
              "      quickchartButtonEl.disabled = true;  // To prevent multiple clicks.\n",
              "      quickchartButtonEl.classList.add('colab-df-spinner');\n",
              "      try {\n",
              "        const charts = await google.colab.kernel.invokeFunction(\n",
              "            'suggestCharts', [key], {});\n",
              "      } catch (error) {\n",
              "        console.error('Error during call to suggestCharts:', error);\n",
              "      }\n",
              "      quickchartButtonEl.classList.remove('colab-df-spinner');\n",
              "      quickchartButtonEl.classList.add('colab-df-quickchart-complete');\n",
              "    }\n",
              "    (() => {\n",
              "      let quickchartButtonEl =\n",
              "        document.querySelector('#df-20735b6f-e246-4637-93c9-f968e71d5aaa button');\n",
              "      quickchartButtonEl.style.display =\n",
              "        google.colab.kernel.accessAllowed ? 'block' : 'none';\n",
              "    })();\n",
              "  </script>\n",
              "</div>\n",
              "    </div>\n",
              "  </div>\n"
            ]
          },
          "metadata": {},
          "execution_count": 16
        }
      ]
    },
    {
      "cell_type": "code",
      "source": [
        "y_train.surface.value_counts().plot(kind='bar')\n",
        "plt.xticks(rotation=45)\n",
        "plt.show()"
      ],
      "metadata": {
        "colab": {
          "base_uri": "https://localhost:8080/",
          "height": 980
        },
        "id": "1zWgWRXI4t_v",
        "outputId": "22a34328-0824-452a-87bd-88031c8d93b3"
      },
      "execution_count": 17,
      "outputs": [
        {
          "output_type": "display_data",
          "data": {
            "text/plain": [
              "<Figure size 1600x1000 with 1 Axes>"
            ],
            "image/png": "[encoded data removed]"
          },
          "metadata": {
            "image/png": {
              "width": 1308,
              "height": 963
            }
          }
        }
      ]
    },
    {
      "cell_type": "markdown",
      "source": [
        "Preprocessing"
      ],
      "metadata": {
        "id": "M0BywPit5Y82"
      }
    },
    {
      "cell_type": "code",
      "source": [
        "label_encoder = LabelEncoder()\n",
        "encoded_labels =  label_encoder.fit_transform(y_train.surface)"
      ],
      "metadata": {
        "id": "ZOJys_jy4uRT"
      },
      "execution_count": 18,
      "outputs": []
    },
    {
      "cell_type": "code",
      "source": [
        "encoded_labels[:8]"
      ],
      "metadata": {
        "colab": {
          "base_uri": "https://localhost:8080/"
        },
        "id": "rS99b5za5VdP",
        "outputId": "a912f62a-174b-4d58-da53-544aaa7c0153"
      },
      "execution_count": 19,
      "outputs": [
        {
          "output_type": "execute_result",
          "data": {
            "text/plain": [
              "array([2, 1, 1, 1, 6, 7, 5, 1])"
            ]
          },
          "metadata": {},
          "execution_count": 19
        }
      ]
    },
    {
      "cell_type": "code",
      "source": [
        "label_encoder.classes_"
      ],
      "metadata": {
        "colab": {
          "base_uri": "https://localhost:8080/"
        },
        "id": "FS31aK3h5UTb",
        "outputId": "6be5fda1-f663-4746-ba4b-3fd3d93aac2e"
      },
      "execution_count": 20,
      "outputs": [
        {
          "output_type": "execute_result",
          "data": {
            "text/plain": [
              "array(['carpet', 'concrete', 'fine_concrete', 'hard_tiles',\n",
              "       'hard_tiles_large_space', 'soft_pvc', 'soft_tiles', 'tiled',\n",
              "       'wood'], dtype=object)"
            ]
          },
          "metadata": {},
          "execution_count": 20
        }
      ]
    },
    {
      "cell_type": "code",
      "source": [
        "label_encoder.inverse_transform([1])"
      ],
      "metadata": {
        "colab": {
          "base_uri": "https://localhost:8080/"
        },
        "id": "E7sJRPVK4ub2",
        "outputId": "b7fa7ef6-0fb7-4c22-af7b-4de6a4357f4c"
      },
      "execution_count": 21,
      "outputs": [
        {
          "output_type": "execute_result",
          "data": {
            "text/plain": [
              "array(['concrete'], dtype=object)"
            ]
          },
          "metadata": {},
          "execution_count": 21
        }
      ]
    },
    {
      "cell_type": "code",
      "source": [
        "y_train[\"label\"] = encoded_labels"
      ],
      "metadata": {
        "id": "Wv5WWBGU4uji"
      },
      "execution_count": 22,
      "outputs": []
    },
    {
      "cell_type": "code",
      "source": [
        "FEATURE_COLUMNS = x_train.columns.tolist()[3:]\n",
        "FEATURE_COLUMNS"
      ],
      "metadata": {
        "colab": {
          "base_uri": "https://localhost:8080/"
        },
        "id": "-rETMUCR4usP",
        "outputId": "7c2c7bfe-f890-46bc-bd00-f63ed9dc0853"
      },
      "execution_count": 23,
      "outputs": [
        {
          "output_type": "execute_result",
          "data": {
            "text/plain": [
              "['orientation_X',\n",
              " 'orientation_Y',\n",
              " 'orientation_Z',\n",
              " 'orientation_W',\n",
              " 'angular_velocity_X',\n",
              " 'angular_velocity_Y',\n",
              " 'angular_velocity_Z',\n",
              " 'linear_acceleration_X',\n",
              " 'linear_acceleration_Y',\n",
              " 'linear_acceleration_Z']"
            ]
          },
          "metadata": {},
          "execution_count": 23
        }
      ]
    },
    {
      "cell_type": "code",
      "source": [
        "x_train.series_id.value_counts()"
      ],
      "metadata": {
        "colab": {
          "base_uri": "https://localhost:8080/"
        },
        "id": "H9r5mrky4uzn",
        "outputId": "5002ff24-54d2-422e-9f90-1f6eea492a93"
      },
      "execution_count": 24,
      "outputs": [
        {
          "output_type": "execute_result",
          "data": {
            "text/plain": [
              "0       128\n",
              "2544    128\n",
              "2532    128\n",
              "2533    128\n",
              "2534    128\n",
              "       ... \n",
              "1274    128\n",
              "1275    128\n",
              "1276    128\n",
              "1277    128\n",
              "3809    128\n",
              "Name: series_id, Length: 3810, dtype: int64"
            ]
          },
          "metadata": {},
          "execution_count": 24
        }
      ]
    },
    {
      "cell_type": "code",
      "source": [
        "(x_train.series_id.value_counts() == 128).sum() == len(y_train)"
      ],
      "metadata": {
        "colab": {
          "base_uri": "https://localhost:8080/"
        },
        "id": "z6i_hwCu4u7I",
        "outputId": "d6ab9bee-5972-467c-dae4-748d4cac0b5f"
      },
      "execution_count": 25,
      "outputs": [
        {
          "output_type": "execute_result",
          "data": {
            "text/plain": [
              "True"
            ]
          },
          "metadata": {},
          "execution_count": 25
        }
      ]
    },
    {
      "cell_type": "code",
      "source": [
        "sequences = []\n",
        "\n",
        "for series_id, group in x_train.groupby(\"series_id\"):\n",
        "  sequence_features = group[FEATURE_COLUMNS]\n",
        "  label = y_train[y_train.series_id == series_id].iloc[0].label\n",
        "\n",
        "  sequences.append((sequence_features,label))"
      ],
      "metadata": {
        "id": "RqQ3I3EV4vCi"
      },
      "execution_count": 26,
      "outputs": []
    },
    {
      "cell_type": "code",
      "source": [
        "train_sequences , test_sequences = train_test_split(sequences, test_size=0.2)"
      ],
      "metadata": {
        "id": "yziuUdL94vP7"
      },
      "execution_count": 27,
      "outputs": []
    },
    {
      "cell_type": "code",
      "source": [
        "len(train_sequences), len(test_sequences)"
      ],
      "metadata": {
        "colab": {
          "base_uri": "https://localhost:8080/"
        },
        "id": "sPX3BJf0VpZC",
        "outputId": "18526165-7c0e-4c77-8a6d-278a11f1b52f"
      },
      "execution_count": 28,
      "outputs": [
        {
          "output_type": "execute_result",
          "data": {
            "text/plain": [
              "(3048, 762)"
            ]
          },
          "metadata": {},
          "execution_count": 28
        }
      ]
    },
    {
      "cell_type": "code",
      "source": [
        "class SurfaceDataset(Dataset):\n",
        "  def __init__(self, sequences):\n",
        "    self.sequences = sequences\n",
        "  def __len__(self):\n",
        "    return len(self.sequences)\n",
        "  def __getitem__(self,idx):\n",
        "    sequence, label = self.sequences[idx]\n",
        "    return dict(\n",
        "        sequence=torch.Tensor(sequence.to_numpy()),\n",
        "        label=torch.tensor(label).long()\n",
        "    )"
      ],
      "metadata": {
        "id": "TYGVOZbQVpW8"
      },
      "execution_count": 29,
      "outputs": []
    },
    {
      "cell_type": "code",
      "source": [
        "class SurfaceDataModule(pl.LightningDataModule):\n",
        "\n",
        "  def __init___(self, train_sequences, test_sequences,batch_size):\n",
        "    super().__init__()\n",
        "    self.train_sequences = train_sequences\n",
        "    self.test_sequences = test_sequences\n",
        "    self.batch_size = batch_size\n",
        "\n",
        "  def setup(self, stage=None):\n",
        "    self.train_dataset = SurfaceDataset(self.train_sequences)\n",
        "    self.test_dataset = SurfaceDataset(self.test_sequences)\n",
        "\n",
        "  def train_dataloader(self):\n",
        "    return DataLoader(\n",
        "        self.train_dataset,\n",
        "        batch_size=self.batch_size,\n",
        "        shuffle=True,\n",
        "        num_workers=cpu_count()\n",
        "    )\n",
        "  def val_dataloader(self):\n",
        "    return DataLoader(\n",
        "        self.test_dataset,\n",
        "        batch_size=self.batch_size,\n",
        "        shuffle=False,\n",
        "        num_workers=cpu_count()\n",
        "    )\n",
        "  def test_dataloader(self):\n",
        "    return DataLoader(\n",
        "        self.test_dataset,\n",
        "        batch_size=self.batch_size,\n",
        "        shuffle=False,\n",
        "        num_workers=cpu_count()\n",
        "    )"
      ],
      "metadata": {
        "id": "GyXH9xF8VpUn"
      },
      "execution_count": 30,
      "outputs": []
    },
    {
      "cell_type": "code",
      "source": [
        "N_EPOCHS = 250\n",
        "BATCH_SIZE = 64\n",
        "\n",
        "data_module = SurfaceDataModule(train_sequences, test_sequences, BATCH_SIZE)"
      ],
      "metadata": {
        "colab": {
          "base_uri": "https://localhost:8080/",
          "height": 210
        },
        "id": "QcCs7ZDpVpSh",
        "outputId": "9f7bec58-574b-4675-c99d-20632a20be0c"
      },
      "execution_count": 31,
      "outputs": [
        {
          "output_type": "error",
          "ename": "TypeError",
          "evalue": "LightningDataModule.__init__() takes 1 positional argument but 4 were given",
          "traceback": [
            "\u001b[0;31m---------------------------------------------------------------------------\u001b[0m",
            "\u001b[0;31mTypeError\u001b[0m                                 Traceback (most recent call last)",
            "\u001b[0;32m<ipython-input-31-34a73311d9f7>\u001b[0m in \u001b[0;36m<cell line: 4>\u001b[0;34m()\u001b[0m\n\u001b[1;32m      2\u001b[0m \u001b[0mBATCH_SIZE\u001b[0m \u001b[0;34m=\u001b[0m \u001b[0;36m64\u001b[0m\u001b[0;34m\u001b[0m\u001b[0;34m\u001b[0m\u001b[0m\n\u001b[1;32m      3\u001b[0m \u001b[0;34m\u001b[0m\u001b[0m\n\u001b[0;32m----> 4\u001b[0;31m \u001b[0mdata_module\u001b[0m \u001b[0;34m=\u001b[0m \u001b[0mSurfaceDataModule\u001b[0m\u001b[0;34m(\u001b[0m\u001b[0mtrain_sequences\u001b[0m\u001b[0;34m,\u001b[0m \u001b[0mtest_sequences\u001b[0m\u001b[0;34m,\u001b[0m \u001b[0mBATCH_SIZE\u001b[0m\u001b[0;34m)\u001b[0m\u001b[0;34m\u001b[0m\u001b[0;34m\u001b[0m\u001b[0m\n\u001b[0m",
            "\u001b[0;31mTypeError\u001b[0m: LightningDataModule.__init__() takes 1 positional argument but 4 were given"
          ]
        }
      ]
    },
    {
      "cell_type": "markdown",
      "source": [
        "MODEL"
      ],
      "metadata": {
        "id": "lPwkpgNQlTXF"
      }
    },
    {
      "cell_type": "code",
      "source": [
        "class SequenceModel(nn.Module):\n",
        "  def __init__(self, n_features,n_classes, n_hidden=256,n_layers=3):\n",
        "    super().__init__()\n",
        "\n",
        "    #self.n_hidden = n_hidden\n",
        "\n",
        "    #RETRAIN AND FIND THE BEST PARAMETERS\n",
        "    self.lstm = nn.LSTM(\n",
        "        input_size=n_features,\n",
        "        hidden_size=n_hidden, #Neuros per layer\n",
        "        num_layers=n_layers,\n",
        "        batch_first=True,\n",
        "        dropout=0.75\n",
        "    )\n",
        "\n",
        "    self.classifier = nn.Linear(n_hidden,n_classes)\n",
        "\n",
        "  def forward(self,x):\n",
        "    self.lstm.flatten_parameters()\n",
        "    _, (hidden,_) = self.lstm(x)\n",
        "\n",
        "    out = hidden[-1]\n",
        "    return self.classifier(out)"
      ],
      "metadata": {
        "id": "RfXcA2qIVpP_"
      },
      "execution_count": null,
      "outputs": []
    },
    {
      "cell_type": "code",
      "source": [
        "class SurfacePredictor(pl.LightningModule):\n",
        "  def __init__(self, n_features: int, n_classes: int):\n",
        "    super().__intit()\n",
        "    self.model = SequenceModel(n_features, n_classes)\n",
        "    self.criterion = nn.CrossEntropyLoss()\n",
        "  def forward(self, x, labels=None):\n",
        "    output = self.model(x)\n",
        "    loss = 0\n",
        "    if labels is not None:\n",
        "      loss = self.criterion(output, labels)\n",
        "    return loss, output\n",
        "\n",
        "  def training_step(self, batch. batch_idx):\n",
        "    sequences = batch[\"sequence\"]\n",
        "    labels = batch[\"label\"]\n",
        "    loss, outputs = self(sequences,labels)\n",
        "    predictions = torch.argmax(outputs, dim=1)\n",
        "    step_accuracy = accuracy(predictions, labels)\n",
        "\n",
        "    self.log(\"train_loss\", loss, prog_bar = True, logger=True)\n",
        "    self.log(\"train_accuracy\", step_accuracy, prog_bar = True, logger=True)\n",
        "    return {\"loss\": loss, \"accuracy\": step_accuracy}\n",
        "\n",
        "  def validation_step(self, batch. batch_idx):\n",
        "    sequences = batch[\"sequence\"]\n",
        "    labels = batch[\"label\"]\n",
        "    loss, outputs = self(sequences,labels)\n",
        "    predictions = torch.argmax(outputs, dim=1)\n",
        "    step_accuracy = accuracy(predictions, labels)\n",
        "\n",
        "    self.log(\"val_loss\", loss, prog_bar = True, logger=True)\n",
        "    self.log(\"val_accuracy\", step_accuracy, prog_bar = True, logger=True)\n",
        "    return {\"loss\": loss, \"accuracy\": step_accuracy}\n",
        "\n",
        "  def test_step(self, batch. batch_idx):\n",
        "    sequences = batch[\"sequence\"]\n",
        "    labels = batch[\"label\"]\n",
        "    loss, outputs = self(sequences,labels)\n",
        "    predictions = torch.argmax(outputs, dim=1)\n",
        "    step_accuracy = accuracy(predictions, labels)\n",
        "\n",
        "    self.log(\"test_loss\", loss, prog_bar = True, logger=True)\n",
        "    self.log(\"test_accuracy\", step_accuracy, prog_bar = True, logger=True)\n",
        "    return {\"loss\": loss, \"accuracy\": step_accuracy}\n",
        "\n",
        "  def configure_optimizers(self):\n",
        "    return optim.Adam(self.parameters(), lr=0..0001)\n",
        "\n"
      ],
      "metadata": {
        "id": "JXBIKVeJVpNk"
      },
      "execution_count": null,
      "outputs": []
    },
    {
      "cell_type": "code",
      "source": [
        "model = SurfacePredictor(\n",
        "    n_features=len(FEATURE_COLUMNS),\n",
        "    n_classee=len(label_encoder.classes)\n",
        ")"
      ],
      "metadata": {
        "id": "Mwyi_lTEVpKt"
      },
      "execution_count": null,
      "outputs": []
    },
    {
      "cell_type": "code",
      "source": [
        "%load_ext tensorboard\n",
        "%tensorboard --logdir ./lightning_logs"
      ],
      "metadata": {
        "id": "gRoQMhPYVpAF"
      },
      "execution_count": null,
      "outputs": []
    }
  ]
}